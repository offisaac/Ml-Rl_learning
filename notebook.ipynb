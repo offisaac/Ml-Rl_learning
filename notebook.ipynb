{
 "cells": [
  {
   "cell_type": "code",
   "execution_count": null,
   "id": "initial_id",
   "metadata": {
    "collapsed": true
   },
   "outputs": [],
   "source": [
    "from PIL import Image\n",
    "img_path=r\"E:\\code for py\\pytorch_learning_note\\dataset\\cat\\cat-4756360_640.jpg\"\n",
    "img =Image.open(img_path)\n",
    "img.show()\n",
    "dir_path=r\"E:\\code for py\\pytorch_learning_note\\dataset\\cat\"\n",
    "import os\n",
    "img_path_list=os.listdir(dir_path)#这个方法返回包含dir_path对应的文件下下的所有条目的列表 也即包含对应文件夹下的所有文件和文件夹的名称(但是不包括子目录中的内容)\n",
    "img_path_list[0]\n",
    "root_dir=r\"E:\\code for py\\pytorch_learning_note\\dataset\\cat\"\n",
    "label_dir=\"cat\"\n",
    "path=os.path.join(root_dir,label_dir)#这一步中的root_dir指最外层文件夹的名称 lable_dir代表内层文件或者文件夹的名称 这里实际在得到需要得到的文件的绝对/相对路径\n",
    "img_name=img_path_list[0]\n",
    "img_item_path=os.path.join(root_dir,label_dir,img_name)"
   ]
  }
 ],
 "metadata": {
  "kernelspec": {
   "display_name": "Python 3",
   "language": "python",
   "name": "python3"
  },
  "language_info": {
   "codemirror_mode": {
    "name": "ipython",
    "version": 2
   },
   "file_extension": ".py",
   "mimetype": "text/x-python",
   "name": "python",
   "nbconvert_exporter": "python",
   "pygments_lexer": "ipython2",
   "version": "2.7.6"
  }
 },
 "nbformat": 4,
 "nbformat_minor": 5
}
